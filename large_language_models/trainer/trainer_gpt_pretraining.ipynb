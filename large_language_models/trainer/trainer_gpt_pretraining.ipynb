{
 "cells": [
  {
   "cell_type": "code",
   "execution_count": 4,
   "id": "ea8102a0",
   "metadata": {},
   "outputs": [
    {
     "ename": "FileNotFoundError",
     "evalue": "[Errno 2] No such file or directory: 'testdata/tinyshakespeare.txt'",
     "output_type": "error",
     "traceback": [
      "\u001b[0;31m---------------------------------------------------------------------------\u001b[0m",
      "\u001b[0;31mFileNotFoundError\u001b[0m                         Traceback (most recent call last)",
      "Cell \u001b[0;32mIn[4], line 24\u001b[0m\n\u001b[1;32m     21\u001b[0m train_fraction \u001b[38;5;241m=\u001b[39m \u001b[38;5;241m0.9\u001b[39m\n\u001b[1;32m     23\u001b[0m \u001b[38;5;66;03m# Tokenizer hyperparameters.\u001b[39;00m\n\u001b[0;32m---> 24\u001b[0m tokenizer \u001b[38;5;241m=\u001b[39m \u001b[43mCharTokenizer\u001b[49m\u001b[43m(\u001b[49m\u001b[43mfilename\u001b[49m\u001b[43m \u001b[49m\u001b[38;5;241;43m=\u001b[39;49m\u001b[43m \u001b[49m\u001b[43mdata_filename\u001b[49m\u001b[43m)\u001b[49m\n\u001b[1;32m     26\u001b[0m \u001b[38;5;66;03m# Architecture hyperparameters.\u001b[39;00m\n\u001b[1;32m     27\u001b[0m embedding_dimension \u001b[38;5;241m=\u001b[39m \u001b[38;5;241m64\u001b[39m\n",
      "File \u001b[0;32m~/code/ml_from_scratch/large_language_models/tokenizers/char_tokenizer.py:26\u001b[0m, in \u001b[0;36mCharTokenizer.__init__\u001b[0;34m(self, filename, document)\u001b[0m\n\u001b[1;32m     23\u001b[0m     \u001b[38;5;167;01mValueError\u001b[39;00m(\u001b[38;5;124mf\u001b[39m\u001b[38;5;124m'\u001b[39m\u001b[38;5;124mOne of filename or document should be non empty.\u001b[39m\u001b[38;5;124m'\u001b[39m)\n\u001b[1;32m     25\u001b[0m \u001b[38;5;28;01mif\u001b[39;00m \u001b[38;5;28mlen\u001b[39m(filename):\n\u001b[0;32m---> 26\u001b[0m     \u001b[38;5;28;01mwith\u001b[39;00m \u001b[38;5;28;43mopen\u001b[39;49m\u001b[43m(\u001b[49m\u001b[43mfilename\u001b[49m\u001b[43m,\u001b[49m\u001b[43m \u001b[49m\u001b[38;5;124;43m'\u001b[39;49m\u001b[38;5;124;43mr\u001b[39;49m\u001b[38;5;124;43m'\u001b[39;49m\u001b[43m)\u001b[49m \u001b[38;5;28;01mas\u001b[39;00m reader:\n\u001b[1;32m     27\u001b[0m         text_data \u001b[38;5;241m=\u001b[39m reader\u001b[38;5;241m.\u001b[39mread()\n\u001b[1;32m     28\u001b[0m \u001b[38;5;28;01melse\u001b[39;00m:\n",
      "\u001b[0;31mFileNotFoundError\u001b[0m: [Errno 2] No such file or directory: 'testdata/tinyshakespeare.txt'"
     ]
    }
   ],
   "source": [
    "# Jupyter notebook for GPT pretraining.\n",
    "\n",
    "# Import parent directory path so that other imports work.\n",
    "import sys, os\n",
    "sys.path.append(os.path.abspath(\"..\"))\n",
    "\n",
    "from datasets.text_dataset import TextDataset\n",
    "from tokenizers.char_tokenizer import CharTokenizer\n",
    "from layers.gpt import GPT\n",
    "from layers import layer_utils\n",
    "from evaluate import Evaluator\n",
    "\n",
    "from collections.abc import Callable\n",
    "import torch, torch.nn as nn\n",
    "\n",
    "\n",
    "# Define hyperparameters.\n",
    "\n",
    "# Dataset hyper parameters\n",
    "data_filename = '../testdata/tinyshakespeare.txt'\n",
    "train_fraction = 0.9\n",
    "\n",
    "# Tokenizer hyperparameters.\n",
    "tokenizer = CharTokenizer(filename = data_filename)\n",
    "\n",
    "# Architecture hyperparameters.\n",
    "embedding_dimension = 64\n",
    "num_heads = 8\n",
    "head_dimension = 16\n",
    "num_decoder_blocks = 10\n",
    "\n",
    "# Training hyperparameters.\n",
    "max_block_size = 24\n",
    "batch_size = 32\n",
    "num_batches_to_train = 200\n",
    "\n",
    "# Evaluation hyperparameters.\n",
    "num_batches_to_evaluate = 10\n",
    "num_tokens_to_generate_during_evaluation = 10\n",
    "num_batches_between_evaluations = 10\n",
    "\n",
    "# Output parameters.\n",
    "output_model_path = 'output/gpt_pretrained_model.pt'\n",
    "output_params_path = 'output/num_parameters_gpt_pretraining.yaml'\n",
    "\n",
    "# Fixing seed for reproducing results.\n",
    "torch.manual_seed(123)\n",
    "\n",
    "# Create directory corresponding to output_model_path if it does not exist.\n",
    "model_dirname = os.path.dirname(output_model_path)\n",
    "if not os.path.exists(model_dirname):\n",
    "    os.makedirs(model_dirname)\n",
    "\n",
    "# Generate train and validation datasets and data loaders.\n",
    "train_dataset = TextDataset(max_block_size, tokenizer, 'train', train_fraction, filename = data_filename)\n",
    "val_dataset = TextDataset(max_block_size, tokenizer, 'val', train_fraction, filename = data_filename)\n",
    "\n",
    "train_dataloader = torch.utils.data.DataLoader(train_dataset, batch_size, shuffle = True)\n",
    "val_dataloader = torch.utils.data.DataLoader(val_dataset, batch_size, shuffle = True)\n",
    "\n",
    "# Define the model architecture and optimizer.\n",
    "model = GPT(num_decoder_blocks, tokenizer.vocabulary_length(), embedding_dimension, num_heads, head_dimension, max_block_size)\n",
    "num_model_parameters = layer_utils.num_parameters(model, output_params_path)\n",
    "print(f'Number of parameters in the model is {num_model_parameters[\"total_trainable_parameters\"]}.')\n",
    "optimizer = torch.optim.AdamW(model.parameters(), lr=1e-4)\n",
    "evaluator = Evaluator()\n",
    "\n",
    "# Set device for training.\n",
    "device = torch.device(\"mps\") if torch.backends.mps.is_available() else torch.device(\"cpu\")\n",
    "model.to(device)\n",
    "\n",
    "# Perform model training and evaluation.\n",
    "for (batch_index, train_batch) in enumerate(train_dataloader):\n",
    "    if batch_index > num_batches_to_train:\n",
    "        print('Reached maximum number of matches. Training is now complete.')\n",
    "        torch.save(model.state_dict(), output_model_path)\n",
    "        break\n",
    "\n",
    "    train_features = train_batch['features'].to(device)\n",
    "    train_labels = train_batch['labels'].to(device)\n",
    "    predictions, loss = model(train_features, train_labels)\n",
    "\n",
    "    optimizer.zero_grad()\n",
    "    loss.backward()\n",
    "    optimizer.step()\n",
    "\n",
    "    if batch_index % num_batches_between_evaluations == 0:\n",
    "        (train_loss, val_loss) = evaluator.evaluate_train_and_validation_loss(train_dataloader, val_dataloader, model, num_batches_to_evaluate, device)\n",
    "        generated_text = evaluator.generate_text(model, num_tokens_to_generate_during_evaluation, tokenizer, device)\n",
    "        print(f' Batch index: {batch_index}, train loss: {train_loss}, val_loss: {val_loss}, generated text\\n {generated_text}')\n"
   ]
  },
  {
   "cell_type": "code",
   "execution_count": 5,
   "id": "68db28c2",
   "metadata": {},
   "outputs": [
    {
     "name": "stdout",
     "output_type": "stream",
     "text": [
      "/Users/jay/code/ml_from_scratch/large_language_models/trainer\n"
     ]
    }
   ],
   "source": [
    "print(os.getcwd())"
   ]
  },
  {
   "cell_type": "code",
   "execution_count": null,
   "id": "6cebca37",
   "metadata": {},
   "outputs": [],
   "source": []
  },
  {
   "cell_type": "code",
   "execution_count": null,
   "id": "d40b1cff",
   "metadata": {},
   "outputs": [],
   "source": []
  },
  {
   "cell_type": "code",
   "execution_count": null,
   "id": "3d86175d",
   "metadata": {},
   "outputs": [],
   "source": []
  },
  {
   "cell_type": "code",
   "execution_count": null,
   "id": "44d15c39",
   "metadata": {},
   "outputs": [],
   "source": []
  }
 ],
 "metadata": {
  "kernelspec": {
   "display_name": "Python 3 (ipykernel)",
   "language": "python",
   "name": "python3"
  },
  "language_info": {
   "codemirror_mode": {
    "name": "ipython",
    "version": 3
   },
   "file_extension": ".py",
   "mimetype": "text/x-python",
   "name": "python",
   "nbconvert_exporter": "python",
   "pygments_lexer": "ipython3",
   "version": "3.9.16"
  }
 },
 "nbformat": 4,
 "nbformat_minor": 5
}
