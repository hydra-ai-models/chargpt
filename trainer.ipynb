{
 "cells": [
  {
   "cell_type": "code",
   "execution_count": 1,
   "id": "ea8102a0",
   "metadata": {},
   "outputs": [
    {
     "name": "stdout",
     "output_type": "stream",
     "text": [
      "Initial token is tensor([[0]]).\n"
     ]
    },
    {
     "ename": "KeyError",
     "evalue": "tensor([ 0,  6, 10, 64, 47, 57, 47, 27, 33, 27, 25])",
     "output_type": "error",
     "traceback": [
      "\u001b[0;31m---------------------------------------------------------------------------\u001b[0m",
      "\u001b[0;31mKeyError\u001b[0m                                  Traceback (most recent call last)",
      "Cell \u001b[0;32mIn[1], line 55\u001b[0m\n\u001b[1;32m     53\u001b[0m \u001b[38;5;28;01mif\u001b[39;00m batch_index \u001b[38;5;241m%\u001b[39m \u001b[38;5;241m10\u001b[39m \u001b[38;5;241m==\u001b[39m \u001b[38;5;241m0\u001b[39m:\n\u001b[1;32m     54\u001b[0m     (train_loss, val_loss) \u001b[38;5;241m=\u001b[39m evaluator\u001b[38;5;241m.\u001b[39mevaluate_train_and_validation_loss(train_dataloader, val_dataloader, model, num_batches_to_evaluate)\n\u001b[0;32m---> 55\u001b[0m     generated_text \u001b[38;5;241m=\u001b[39m \u001b[43mevaluator\u001b[49m\u001b[38;5;241;43m.\u001b[39;49m\u001b[43mgenerate_text\u001b[49m\u001b[43m(\u001b[49m\u001b[43mmodel\u001b[49m\u001b[43m,\u001b[49m\u001b[43m \u001b[49m\u001b[43mnum_tokens_to_generate\u001b[49m\u001b[43m,\u001b[49m\u001b[43m \u001b[49m\u001b[43mtokenizer\u001b[49m\u001b[43m)\u001b[49m\n\u001b[1;32m     56\u001b[0m     \u001b[38;5;28mprint\u001b[39m(\u001b[38;5;124mf\u001b[39m\u001b[38;5;124m'\u001b[39m\u001b[38;5;124m Batch index: \u001b[39m\u001b[38;5;132;01m{\u001b[39;00mbatch_index\u001b[38;5;132;01m}\u001b[39;00m\u001b[38;5;124m, train loss: \u001b[39m\u001b[38;5;132;01m{\u001b[39;00mtrain_loss\u001b[38;5;132;01m}\u001b[39;00m\u001b[38;5;124m, val_loss: \u001b[39m\u001b[38;5;132;01m{\u001b[39;00mval_loss\u001b[38;5;132;01m}\u001b[39;00m\u001b[38;5;124m, generated text\u001b[39m\u001b[38;5;130;01m\\n\u001b[39;00m\u001b[38;5;124m \u001b[39m\u001b[38;5;132;01m{\u001b[39;00mgenerate_text\u001b[38;5;132;01m}\u001b[39;00m\u001b[38;5;124m'\u001b[39m)\n",
      "File \u001b[0;32m~/miniconda3/envs/hydra_llms/lib/python3.9/site-packages/torch/utils/_contextlib.py:115\u001b[0m, in \u001b[0;36mcontext_decorator.<locals>.decorate_context\u001b[0;34m(*args, **kwargs)\u001b[0m\n\u001b[1;32m    112\u001b[0m \u001b[38;5;129m@functools\u001b[39m\u001b[38;5;241m.\u001b[39mwraps(func)\n\u001b[1;32m    113\u001b[0m \u001b[38;5;28;01mdef\u001b[39;00m \u001b[38;5;21mdecorate_context\u001b[39m(\u001b[38;5;241m*\u001b[39margs, \u001b[38;5;241m*\u001b[39m\u001b[38;5;241m*\u001b[39mkwargs):\n\u001b[1;32m    114\u001b[0m     \u001b[38;5;28;01mwith\u001b[39;00m ctx_factory():\n\u001b[0;32m--> 115\u001b[0m         \u001b[38;5;28;01mreturn\u001b[39;00m \u001b[43mfunc\u001b[49m\u001b[43m(\u001b[49m\u001b[38;5;241;43m*\u001b[39;49m\u001b[43margs\u001b[49m\u001b[43m,\u001b[49m\u001b[43m \u001b[49m\u001b[38;5;241;43m*\u001b[39;49m\u001b[38;5;241;43m*\u001b[39;49m\u001b[43mkwargs\u001b[49m\u001b[43m)\u001b[49m\n",
      "File \u001b[0;32m/Volumes/Data/Career Development/Coding/chargpt/evaluate.py:32\u001b[0m, in \u001b[0;36mEvaluator.generate_text\u001b[0;34m(self, model, num_tokens_to_generate, tokenizer)\u001b[0m\n\u001b[1;32m     30\u001b[0m \u001b[38;5;28mprint\u001b[39m(\u001b[38;5;124mf\u001b[39m\u001b[38;5;124m'\u001b[39m\u001b[38;5;124mInitial token is \u001b[39m\u001b[38;5;132;01m{\u001b[39;00minitial_token\u001b[38;5;132;01m}\u001b[39;00m\u001b[38;5;124m.\u001b[39m\u001b[38;5;124m'\u001b[39m)\n\u001b[1;32m     31\u001b[0m generated_tokens \u001b[38;5;241m=\u001b[39m model\u001b[38;5;241m.\u001b[39mgenerate(initial_token, num_tokens_to_generate)\n\u001b[0;32m---> 32\u001b[0m \u001b[38;5;28;01mreturn\u001b[39;00m \u001b[43mtokenizer\u001b[49m\u001b[38;5;241;43m.\u001b[39;49m\u001b[43mdecode\u001b[49m\u001b[43m(\u001b[49m\u001b[43mgenerated_tokens\u001b[49m\u001b[43m)\u001b[49m\n",
      "File \u001b[0;32m/Volumes/Data/Career Development/Coding/chargpt/tokenizers/char_tokenizer.py:60\u001b[0m, in \u001b[0;36mCharTokenizer.decode\u001b[0;34m(self, token_indices)\u001b[0m\n\u001b[1;32m     51\u001b[0m \u001b[38;5;28;01mdef\u001b[39;00m \u001b[38;5;21mdecode\u001b[39m(\u001b[38;5;28mself\u001b[39m, token_indices: \u001b[38;5;28mlist\u001b[39m[\u001b[38;5;28mint\u001b[39m]) \u001b[38;5;241m-\u001b[39m\u001b[38;5;241m>\u001b[39m \u001b[38;5;28mstr\u001b[39m:\n\u001b[1;32m     52\u001b[0m \u001b[38;5;250m    \u001b[39m\u001b[38;5;124;03m''' Takes a list of token indices as input, converts the corresponding indices to token strings, and returns the concatenated string as output. This method should be implemented by concrete subclasses of TokenizerBase.\u001b[39;00m\n\u001b[1;32m     53\u001b[0m \n\u001b[1;32m     54\u001b[0m \u001b[38;5;124;03m        Args:\u001b[39;00m\n\u001b[0;32m   (...)\u001b[0m\n\u001b[1;32m     58\u001b[0m \u001b[38;5;124;03m            Text obtained by converting each token index in input to the corresponding token string, and concatenating them.\u001b[39;00m\n\u001b[1;32m     59\u001b[0m \u001b[38;5;124;03m    '''\u001b[39;00m\n\u001b[0;32m---> 60\u001b[0m     \u001b[38;5;28;01mreturn\u001b[39;00m \u001b[38;5;124m'\u001b[39m\u001b[38;5;124m'\u001b[39m\u001b[38;5;241m.\u001b[39mjoin([\u001b[38;5;28mself\u001b[39m\u001b[38;5;241m.\u001b[39m_index_to_token_map[index] \u001b[38;5;28;01mfor\u001b[39;00m index \u001b[38;5;129;01min\u001b[39;00m token_indices])\n",
      "File \u001b[0;32m/Volumes/Data/Career Development/Coding/chargpt/tokenizers/char_tokenizer.py:60\u001b[0m, in \u001b[0;36m<listcomp>\u001b[0;34m(.0)\u001b[0m\n\u001b[1;32m     51\u001b[0m \u001b[38;5;28;01mdef\u001b[39;00m \u001b[38;5;21mdecode\u001b[39m(\u001b[38;5;28mself\u001b[39m, token_indices: \u001b[38;5;28mlist\u001b[39m[\u001b[38;5;28mint\u001b[39m]) \u001b[38;5;241m-\u001b[39m\u001b[38;5;241m>\u001b[39m \u001b[38;5;28mstr\u001b[39m:\n\u001b[1;32m     52\u001b[0m \u001b[38;5;250m    \u001b[39m\u001b[38;5;124;03m''' Takes a list of token indices as input, converts the corresponding indices to token strings, and returns the concatenated string as output. This method should be implemented by concrete subclasses of TokenizerBase.\u001b[39;00m\n\u001b[1;32m     53\u001b[0m \n\u001b[1;32m     54\u001b[0m \u001b[38;5;124;03m        Args:\u001b[39;00m\n\u001b[0;32m   (...)\u001b[0m\n\u001b[1;32m     58\u001b[0m \u001b[38;5;124;03m            Text obtained by converting each token index in input to the corresponding token string, and concatenating them.\u001b[39;00m\n\u001b[1;32m     59\u001b[0m \u001b[38;5;124;03m    '''\u001b[39;00m\n\u001b[0;32m---> 60\u001b[0m     \u001b[38;5;28;01mreturn\u001b[39;00m \u001b[38;5;124m'\u001b[39m\u001b[38;5;124m'\u001b[39m\u001b[38;5;241m.\u001b[39mjoin([\u001b[38;5;28;43mself\u001b[39;49m\u001b[38;5;241;43m.\u001b[39;49m\u001b[43m_index_to_token_map\u001b[49m\u001b[43m[\u001b[49m\u001b[43mindex\u001b[49m\u001b[43m]\u001b[49m \u001b[38;5;28;01mfor\u001b[39;00m index \u001b[38;5;129;01min\u001b[39;00m token_indices])\n",
      "\u001b[0;31mKeyError\u001b[0m: tensor([ 0,  6, 10, 64, 47, 57, 47, 27, 33, 27, 25])"
     ]
    }
   ],
   "source": [
    "# Jupyter notebook to train CharGPT models.\n",
    "\n",
    "from datasets.text_dataset import TextDataset\n",
    "from tokenizers.char_tokenizer import CharTokenizer\n",
    "from layers.gpt import GPT\n",
    "from evaluate import Evaluator\n",
    "\n",
    "from collections.abc import Callable\n",
    "import torch, torch.nn as nn\n",
    "\n",
    "\n",
    "# Define hyper parameters.\n",
    "data_filename = 'testdata/tinyshakespeare.txt'\n",
    "tokenizer = CharTokenizer(filename = data_filename)\n",
    "max_block_size = 24\n",
    "train_fraction = 0.9\n",
    "batch_size = 32\n",
    "num_batches_to_train = 1000\n",
    "num_batches_to_evaluate = 10\n",
    "num_decoder_blocks = 10\n",
    "embedding_dimension = 64\n",
    "num_heads = 8\n",
    "head_dimension = 16\n",
    "num_tokens_to_generate = 10\n",
    "torch.manual_seed(123)\n",
    "\n",
    "\n",
    "# Generate train and validation datasets and data loaders.\n",
    "train_dataset = TextDataset(max_block_size, tokenizer, 'train', train_fraction, filename = data_filename)\n",
    "val_dataset = TextDataset(max_block_size, tokenizer, 'val', train_fraction, filename = data_filename)\n",
    "\n",
    "train_dataloader = torch.utils.data.DataLoader(train_dataset, batch_size, shuffle = True)\n",
    "val_dataloader = torch.utils.data.DataLoader(val_dataset, batch_size, shuffle = True)\n",
    "\n",
    "\n",
    "model = GPT(num_decoder_blocks, tokenizer.vocabulary_length(), embedding_dimension, num_heads, head_dimension, max_block_size)\n",
    "optimizer = torch.optim.AdamW(model.parameters(), lr=1e-4)\n",
    "evaluator = Evaluator()\n",
    "\n",
    "for (batch_index, train_batch) in enumerate(train_dataloader):\n",
    "    if batch_index > num_batches_to_train:\n",
    "        print('Reached maximum number of matches. Training is now complete.')\n",
    "        break\n",
    "\n",
    "    train_features = train_batch['features']\n",
    "    train_labels = train_batch['labels']\n",
    "    predictions, loss = model(train_features, train_labels)\n",
    "\n",
    "    optimizer.zero_grad()\n",
    "    loss.backward()\n",
    "    optimizer.step()\n",
    "\n",
    "    if batch_index % 10 == 0:\n",
    "        (train_loss, val_loss) = evaluator.evaluate_train_and_validation_loss(train_dataloader, val_dataloader, model, num_batches_to_evaluate)\n",
    "        generated_text = evaluator.generate_text(model, num_tokens_to_generate, tokenizer)\n",
    "        print(f' Batch index: {batch_index}, train loss: {train_loss}, val_loss: {val_loss}, generated text\\n {generate_text}')\n"
   ]
  },
  {
   "cell_type": "code",
   "execution_count": null,
   "id": "68db28c2",
   "metadata": {},
   "outputs": [],
   "source": []
  }
 ],
 "metadata": {
  "kernelspec": {
   "display_name": "Python 3 (ipykernel)",
   "language": "python",
   "name": "python3"
  },
  "language_info": {
   "codemirror_mode": {
    "name": "ipython",
    "version": 3
   },
   "file_extension": ".py",
   "mimetype": "text/x-python",
   "name": "python",
   "nbconvert_exporter": "python",
   "pygments_lexer": "ipython3",
   "version": "3.9.16"
  }
 },
 "nbformat": 4,
 "nbformat_minor": 5
}
